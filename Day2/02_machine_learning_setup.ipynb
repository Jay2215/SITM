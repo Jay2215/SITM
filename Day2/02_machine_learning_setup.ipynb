{
 "cells": [
  {
   "cell_type": "markdown",
   "metadata": {},
   "source": [
    "# Setting up Python for machine learning: scikit-learn and IPython Notebook"
   ]
  },
  {
   "cell_type": "markdown",
   "metadata": {},
   "source": [
    "![scikit-learn logo](images/02_sklearn_logo.png)"
   ]
  },
  {
   "cell_type": "markdown",
   "metadata": {},
   "source": [
    "![scikit-learn algorithm map](images/02_sklearn_algorithms.png)"
   ]
  },
  {
   "cell_type": "markdown",
   "metadata": {},
   "source": [
    "## Installing scikit-learn\n",
    "\n",
    "**Option 1:** [Install scikit-learn library](http://scikit-learn.org/stable/install.html) and dependencies (NumPy and SciPy)\n",
    "\n",
    "**Option 2:** [Install Anaconda distribution](https://www.continuum.io/downloads) of Python, which includes:\n",
    "\n",
    "- Hundreds of useful packages (including scikit-learn)\n",
    "- IPython and IPython Notebook\n",
    "- conda package manager\n",
    "- Spyder IDE"
   ]
  },
  {
   "cell_type": "markdown",
   "metadata": {},
   "source": [
    "![IPython header](images/02_ipython_header.png)"
   ]
  },
  {
   "cell_type": "markdown",
   "metadata": {},
   "source": [
    "## Using the IPython Notebook\n",
    "\n",
    "### Components:\n",
    "\n",
    "- **IPython interpreter:** enhanced version of the standard Python interpreter\n",
    "- **Browser-based notebook interface:** weave together code, formatted text, and plots\n",
    "\n",
    "### Installation:\n",
    "\n",
    "- **Option 1:** Install [IPython](http://ipython.org/install.html) and the [notebook](https://jupyter.readthedocs.io/en/latest/install.html)\n",
    "- **Option 2:** Included with the Anaconda distribution\n",
    "\n",
    "### Launching the Notebook:\n",
    "\n",
    "- Type **ipython notebook** at the command line to open the dashboard\n",
    "- Don't close the command line window while the Notebook is running\n",
    "\n",
    "### Keyboard shortcuts:\n",
    "\n",
    "**Command mode** (gray border)\n",
    "\n",
    "- Create new cells above (**a**) or below (**b**) the current cell\n",
    "- Navigate using the **up arrow** and **down arrow**\n",
    "- Convert the cell type to Markdown (**m**) or code (**y**)\n",
    "- See keyboard shortcuts using **h**\n",
    "- Switch to Edit mode using **Enter**\n",
    "\n",
    "**Edit mode** (green border)\n",
    "\n",
    "- **Ctrl+Enter** to run a cell\n",
    "- Switch to Command mode using **Esc**\n"
   ]
  },
  {
   "cell_type": "markdown",
   "metadata": {},
   "source": [
    "## Resources for learning Python\n",
    "\n",
    "- [Codecademy's Python course](https://www.codecademy.com/learn/python): browser-based, tons of exercises\n",
    "- [DataQuest](https://www.dataquest.io/): browser-based, teaches Python in the context of data science\n",
    "- [Google's Python class](https://developers.google.com/edu/python/): slightly more advanced, includes videos and downloadable exercises (with solutions)\n",
    "- [Python for Informatics](http://www.pythonlearn.com/): beginner-oriented book, includes slides and videos"
   ]
  }
 ],
 "metadata": {
  "kernelspec": {
   "display_name": "Python 2",
   "language": "python",
   "name": "python2"
  },
  "language_info": {
   "codemirror_mode": {
    "name": "ipython",
    "version": 2
   },
   "file_extension": ".py",
   "mimetype": "text/x-python",
   "name": "python",
   "nbconvert_exporter": "python",
   "pygments_lexer": "ipython2",
   "version": "2.7.13"
  }
 },
 "nbformat": 4,
 "nbformat_minor": 1
}
